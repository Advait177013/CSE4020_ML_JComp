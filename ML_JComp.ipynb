{
  "nbformat": 4,
  "nbformat_minor": 0,
  "metadata": {
    "colab": {
      "provenance": [],
      "collapsed_sections": [],
      "include_colab_link": true
    },
    "kernelspec": {
      "name": "python3",
      "display_name": "Python 3"
    },
    "language_info": {
      "name": "python"
    }
  },
  "cells": [
    {
      "cell_type": "markdown",
      "metadata": {
        "id": "view-in-github",
        "colab_type": "text"
      },
      "source": [
        "<a href=\"https://colab.research.google.com/github/Advait177013/CSE4020_ML_JComp/blob/main/ML_JComp.ipynb\" target=\"_parent\"><img src=\"https://colab.research.google.com/assets/colab-badge.svg\" alt=\"Open In Colab\"/></a>"
      ]
    },
    {
      "cell_type": "code",
      "execution_count": 1,
      "metadata": {
        "id": "rjv67nzsgltr"
      },
      "outputs": [],
      "source": [
        "import numpy as np\n",
        "import pandas as pd\n",
        "import matplotlib.pyplot as plt\n",
        "%matplotlib inline\n",
        "\n",
        "import datetime\n",
        "\n",
        "from sklearn.model_selection import train_test_split\n",
        "\n",
        "from sklearn.tree import DecisionTreeClassifier\n",
        "from sklearn.metrics import accuracy_score\n",
        "from sklearn.metrics import precision_score\n",
        "from sklearn.metrics import jaccard_score\n",
        "from sklearn.metrics import balanced_accuracy_score\n",
        "\n",
        "from sklearn.preprocessing import StandardScaler\n",
        "\n",
        "from sklearn.tree import DecisionTreeRegressor\n",
        "from sklearn.ensemble import RandomForestRegressor\n",
        "\n",
        "from sklearn.metrics import mean_squared_error\n",
        "from sklearn.metrics import mean_absolute_error\n",
        "from math import sqrt\n"
      ]
    },
    {
      "cell_type": "code",
      "source": [
        "url_country = 'https://raw.githubusercontent.com/Advait177013/CSE4020_ML_JComp/main/cleaned%20data/min_full_set_by_country.csv'\n",
        "url_income = 'https://raw.githubusercontent.com/Advait177013/CSE4020_ML_JComp/main/cleaned%20data/min_full_set_by_income.csv'\n",
        "url_region = 'https://raw.githubusercontent.com/Advait177013/CSE4020_ML_JComp/main/cleaned%20data/min_full_set_by_region.csv'\n",
        "df_country = pd.read_csv(url_country)\n",
        "df_income = pd.read_csv(url_income)\n",
        "df_region = pd.read_csv(url_region)"
      ],
      "metadata": {
        "id": "WhIJhEc2k8gz"
      },
      "execution_count": 2,
      "outputs": []
    },
    {
      "cell_type": "markdown",
      "source": [
        "Team Members : \n",
        "\n",
        "Advait Deochakke\n",
        "\n",
        "Harish T R\n",
        "\n",
        "Shah Siddh "
      ],
      "metadata": {
        "id": "OQNNEEZBgqGL"
      }
    },
    {
      "cell_type": "code",
      "source": [
        "#Code by Advait\n",
        "\n",
        "#creating a copy to facilitate operations\n",
        "df=df_country.copy() \n",
        "\n",
        "#changing the date format to a format which we can easily process \n",
        "#from complex string which COULD be converted to categories \n",
        "# → to easily processable integers\n",
        "\n",
        "df['date'] = pd.to_datetime(df['date'])\n",
        "df['date'] = df['date'].dt.strftime('%Y.%m.%d')\n",
        "df['year'] = pd.DatetimeIndex(df['date']).year\n",
        "df['month'] = pd.DatetimeIndex(df['date']).month\n",
        "df['day'] = pd.DatetimeIndex(df['date']).day\n",
        "\n",
        "print(df.info())"
      ],
      "metadata": {
        "id": "6XnpSVuOg-IR",
        "colab": {
          "base_uri": "https://localhost:8080/"
        },
        "outputId": "bb05012b-2cd6-48ca-bd89-2807c774b4e9"
      },
      "execution_count": 3,
      "outputs": [
        {
          "output_type": "stream",
          "name": "stdout",
          "text": [
            "<class 'pandas.core.frame.DataFrame'>\n",
            "RangeIndex: 151164 entries, 0 to 151163\n",
            "Data columns (total 22 columns):\n",
            " #   Column                               Non-Null Count   Dtype  \n",
            "---  ------                               --------------   -----  \n",
            " 0   Unnamed: 0                           151164 non-null  int64  \n",
            " 1   iso_code                             151164 non-null  object \n",
            " 2   location                             151164 non-null  object \n",
            " 3   date                                 151164 non-null  object \n",
            " 4   total_cases                          151164 non-null  float64\n",
            " 5   total_deaths                         151164 non-null  int64  \n",
            " 6   total_cases_per_million              151164 non-null  float64\n",
            " 7   total_deaths_per_million             151164 non-null  float64\n",
            " 8   total_tests                          151164 non-null  float64\n",
            " 9   total_tests_per_thousand             151164 non-null  float64\n",
            " 10  positive_rate                        151164 non-null  float64\n",
            " 11  people_vaccinated                    151164 non-null  float64\n",
            " 12  people_fully_vaccinated              151164 non-null  float64\n",
            " 13  people_fully_vaccinated_per_hundred  151164 non-null  float64\n",
            " 14  population                           151164 non-null  int64  \n",
            " 15  population_density                   151164 non-null  float64\n",
            " 16  median_age                           151164 non-null  float64\n",
            " 17  gdp_per_capita                       151164 non-null  float64\n",
            " 18  human_development_index              151164 non-null  float64\n",
            " 19  year                                 151164 non-null  int64  \n",
            " 20  month                                151164 non-null  int64  \n",
            " 21  day                                  151164 non-null  int64  \n",
            "dtypes: float64(13), int64(6), object(3)\n",
            "memory usage: 25.4+ MB\n",
            "None\n"
          ]
        }
      ]
    },
    {
      "cell_type": "code",
      "source": [
        "#Defining our X and y to predict country of origin\n",
        "#taking in X\n",
        "#total cases per million\n",
        "#total deaths per million\n",
        "#positive rate\n",
        "#people fully vaccinated per hundred\n",
        "#year\n",
        "#month\n",
        "\n",
        "X = df.iloc[:, [6, 7, 10, 13, 19, 20]]\n",
        "\n",
        "#taking in y\n",
        "#location to predict\n",
        "y = df.iloc[:, [2]]\n",
        "\n",
        "#train test split , 60:40\n",
        "\n",
        "X_train, X_test, y_train, y_test = train_test_split(X, y, test_size=0.4)"
      ],
      "metadata": {
        "id": "ySiDtT3reJ2U"
      },
      "execution_count": 4,
      "outputs": []
    },
    {
      "cell_type": "code",
      "source": [
        "#Decision Tree Algorithm to predict which country the given data is from\n",
        "#provided an unlabelled dataset. \n",
        "\n",
        "country_cdvpym_clf = DecisionTreeClassifier()\n",
        "\n",
        "country_cdvpym_clf.fit(X_train, y_train)"
      ],
      "metadata": {
        "colab": {
          "base_uri": "https://localhost:8080/"
        },
        "id": "cTgVeJ9bBSIu",
        "outputId": "1c946f04-affe-4c53-a633-b9df37f34ef6"
      },
      "execution_count": 5,
      "outputs": [
        {
          "output_type": "execute_result",
          "data": {
            "text/plain": [
              "DecisionTreeClassifier()"
            ]
          },
          "metadata": {},
          "execution_count": 5
        }
      ]
    },
    {
      "cell_type": "code",
      "source": [
        "y_pred = country_cdvpym_clf.predict(X_test)\n",
        "\n",
        "treeclf_acc = accuracy_score(y_test,y_pred)\n",
        "treeclf_balacc = balanced_accuracy_score(y_test, y_pred)\n",
        "treeclf_prec = precision_score(y_test, y_pred, average='macro')\n",
        "treeclf_jacc = jaccard_score(y_test, y_pred, average='macro')\n",
        "\n",
        "print(\"Decision Tree \\naccuracy = \", treeclf_acc, \"\\nbalanced accuracy = \", treeclf_balacc, \"\\nprecision = \", treeclf_prec, \"\\njaccard = \", treeclf_jacc)"
      ],
      "metadata": {
        "colab": {
          "base_uri": "https://localhost:8080/"
        },
        "id": "wRYqPNdZE8DG",
        "outputId": "c720cb25-7b87-46ba-d028-240d67b333be"
      },
      "execution_count": 6,
      "outputs": [
        {
          "output_type": "stream",
          "name": "stdout",
          "text": [
            "Decision Tree \n",
            "accuracy =  0.9743326828300202 \n",
            "balanced accuracy =  0.9744314682819577 \n",
            "precision =  0.9744823265342877 \n",
            "jaccard =  0.9508690618074491\n"
          ]
        }
      ]
    },
    {
      "cell_type": "code",
      "source": [
        "#Defining our X and y to predict how well vaccinations will go\n",
        "#taking in X\n",
        "#total cases per million\n",
        "#total deaths per million\n",
        "#positive rate\n",
        "#year\n",
        "#month\n",
        "\n",
        "X = df.iloc[:, [6, 7, 10, 19, 20]]\n",
        "\n",
        "#taking in y\n",
        "#location to predict\n",
        "y = df.iloc[:, [13]]\n",
        "\n",
        "#train test split , 60:40\n",
        "\n",
        "X_train, X_test, y_train, y_test = train_test_split(X, y, test_size=0.4)"
      ],
      "metadata": {
        "id": "yoicxR3QPdmO"
      },
      "execution_count": 7,
      "outputs": []
    },
    {
      "cell_type": "code",
      "source": [
        "scaler = StandardScaler()\n",
        "X_train_scaled = scaler.fit_transform(X_train)\n",
        "X_test_scaled = scaler.transform(X_test)"
      ],
      "metadata": {
        "id": "ynYG4y35cVdr"
      },
      "execution_count": 8,
      "outputs": []
    },
    {
      "cell_type": "code",
      "source": [
        "#Decision Tree and Random Forest Regression to predict how well vaccinations will go\n",
        "#provided a date and some data at that date\n",
        "\n",
        "country_cdpym_dtreg = DecisionTreeRegressor()\n",
        "country_cdpym_rfreg = RandomForestRegressor()\n",
        "\n",
        "country_cdpym_dtreg.fit(X_train_scaled, y_train)\n",
        "country_cdpym_rfreg.fit(X_train_scaled, y_train)"
      ],
      "metadata": {
        "colab": {
          "base_uri": "https://localhost:8080/"
        },
        "id": "f1mkOmNfRvjj",
        "outputId": "01a01657-dbe4-4978-8bc6-7a76dc222698"
      },
      "execution_count": 9,
      "outputs": [
        {
          "output_type": "stream",
          "name": "stderr",
          "text": [
            "/usr/local/lib/python3.7/dist-packages/ipykernel_launcher.py:8: DataConversionWarning: A column-vector y was passed when a 1d array was expected. Please change the shape of y to (n_samples,), for example using ravel().\n",
            "  \n"
          ]
        },
        {
          "output_type": "execute_result",
          "data": {
            "text/plain": [
              "RandomForestRegressor()"
            ]
          },
          "metadata": {},
          "execution_count": 9
        }
      ]
    },
    {
      "cell_type": "code",
      "source": [
        "y_pred = country_cdpym_dtreg.predict(X_test_scaled)\n",
        "\n",
        "tree_mse = mean_squared_error(y_test, y_pred)\n",
        "tree_mae = mean_absolute_error(y_test, y_pred)\n",
        "\n",
        "y_pred = country_cdpym_rfreg.predict(X_test_scaled)\n",
        "\n",
        "rf_mse = mean_squared_error(y_test, y_pred)\n",
        "rf_mae = mean_absolute_error(y_test, y_pred)\n",
        "\n",
        "print(\"Decision Tree \\nmse = \",tree_mse,\"\\nmae = \",tree_mae,\"\\nrmse = \", sqrt(tree_mse))\n",
        "print(\"\\nRandom Forest \\nmse = \",rf_mse,\" \\nmae = \",rf_mae,\"\\nrmse = \", sqrt(rf_mse)) "
      ],
      "metadata": {
        "colab": {
          "base_uri": "https://localhost:8080/"
        },
        "id": "rs-KaxPUT4KI",
        "outputId": "e58c3109-3acb-4f61-d9e6-aaba0d012562"
      },
      "execution_count": 10,
      "outputs": [
        {
          "output_type": "stream",
          "name": "stdout",
          "text": [
            "Decision Tree \n",
            "mse =  6.104453299225523 \n",
            "mae =  0.32586605787972966 \n",
            "rmse =  2.470719186638887\n",
            "\n",
            "Random Forest \n",
            "mse =  2.9265676986387823  \n",
            "mae =  0.42199349009762854 \n",
            "rmse =  1.7107213971417972\n"
          ]
        }
      ]
    },
    {
      "cell_type": "code",
      "source": [
        "#-----------------------------------------------------------------------------------------------------------------------------------------------------"
      ],
      "metadata": {
        "id": "RwpYmHd2wNSo"
      },
      "execution_count": 11,
      "outputs": []
    },
    {
      "cell_type": "code",
      "source": [
        "#Code by Harish\n",
        "\n",
        "# creating a copy to perform various opeations\n",
        "df=df_income.copy() "
      ],
      "metadata": {
        "id": "2AqQQ9LFk3Wx"
      },
      "execution_count": 12,
      "outputs": []
    },
    {
      "cell_type": "code",
      "source": [
        "# changing the date format to the int form string to prcocess it easily  \n",
        "df['date'] = pd.to_datetime(df['date'])\n",
        "df['date'] = df['date'].dt.strftime('%Y.%m.%d')\n",
        "df['year'] = pd.DatetimeIndex(df['date']).year\n",
        "df['month'] = pd.DatetimeIndex(df['date']).month\n",
        "df['day'] = pd.DatetimeIndex(df['date']).day\n",
        "\n",
        "print(df.info())"
      ],
      "metadata": {
        "colab": {
          "base_uri": "https://localhost:8080/"
        },
        "id": "oZs9hZ1pvs9e",
        "outputId": "283e9759-6f84-47dd-ffde-9f406630c70c"
      },
      "execution_count": 13,
      "outputs": [
        {
          "output_type": "stream",
          "name": "stdout",
          "text": [
            "<class 'pandas.core.frame.DataFrame'>\n",
            "RangeIndex: 3864 entries, 0 to 3863\n",
            "Data columns (total 15 columns):\n",
            " #   Column                               Non-Null Count  Dtype  \n",
            "---  ------                               --------------  -----  \n",
            " 0   Unnamed: 0                           3864 non-null   int64  \n",
            " 1   iso_code                             3864 non-null   object \n",
            " 2   location                             3864 non-null   object \n",
            " 3   date                                 3864 non-null   object \n",
            " 4   total_cases                          3864 non-null   int64  \n",
            " 5   total_deaths                         3864 non-null   int64  \n",
            " 6   total_cases_per_million              3864 non-null   float64\n",
            " 7   total_deaths_per_million             3864 non-null   float64\n",
            " 8   people_vaccinated                    3864 non-null   int64  \n",
            " 9   people_fully_vaccinated              3864 non-null   int64  \n",
            " 10  people_fully_vaccinated_per_hundred  3864 non-null   float64\n",
            " 11  population                           3864 non-null   int64  \n",
            " 12  year                                 3864 non-null   int64  \n",
            " 13  month                                3864 non-null   int64  \n",
            " 14  day                                  3864 non-null   int64  \n",
            "dtypes: float64(3), int64(9), object(3)\n",
            "memory usage: 452.9+ KB\n",
            "None\n"
          ]
        }
      ]
    },
    {
      "cell_type": "code",
      "source": [
        "# X (labels) -->\n",
        "# x1 = total cases per million\n",
        "# x2 = total deaths per million\n",
        "# x3 = people fully vaccinated per hundred\n",
        "# x4 = year\n",
        "# x5 = month\n",
        "\n",
        "X = df.iloc[:, [6, 7, 10, 12, 13]]\n",
        "\n",
        "# predicting y -> regions affected\n",
        "y = df.iloc[:, [2]]\n",
        "\n",
        "# splitting the train(60) test(40) data\n",
        "X_train, X_test, y_train, y_test = train_test_split(X, y, test_size=0.4)"
      ],
      "metadata": {
        "id": "vB6AMdGqvuQW"
      },
      "execution_count": 14,
      "outputs": []
    },
    {
      "cell_type": "code",
      "source": [
        "# Decision Tree Algorithm to predict which country the given data is from\n",
        "country_cdvpym_clf = DecisionTreeClassifier()\n",
        "country_cdvpym_clf.fit(X_train, y_train)"
      ],
      "metadata": {
        "colab": {
          "base_uri": "https://localhost:8080/"
        },
        "id": "i_cQMC0pvyI6",
        "outputId": "99b38a1c-4da9-4e51-e174-9efecd6eae28"
      },
      "execution_count": 15,
      "outputs": [
        {
          "output_type": "execute_result",
          "data": {
            "text/plain": [
              "DecisionTreeClassifier()"
            ]
          },
          "metadata": {},
          "execution_count": 15
        }
      ]
    },
    {
      "cell_type": "code",
      "source": [
        "y_pred = country_cdvpym_clf.predict(X_test)\n",
        "print(y_pred)\n",
        "\n",
        "acc = accuracy_score(y_test,y_pred)\n",
        "bal_acc = balanced_accuracy_score(y_test, y_pred)\n",
        "pre = precision_score(y_test, y_pred, average='macro')\n",
        "jacc = jaccard_score(y_test, y_pred, average='macro')\n",
        "\n",
        "print(\"Decision Tree \\naccuracy = \", acc, \"\\nbalanced accuracy = \", bal_acc, \"\\nprecision = \", pre, \"\\njaccard = \", jacc)"
      ],
      "metadata": {
        "colab": {
          "base_uri": "https://localhost:8080/"
        },
        "id": "5LLxbXF8vyw3",
        "outputId": "d43ce58b-2a6c-4194-8a36-401503e9adff"
      },
      "execution_count": 16,
      "outputs": [
        {
          "output_type": "stream",
          "name": "stdout",
          "text": [
            "['High income' 'High income' 'High income' ... 'High income'\n",
            " 'Lower middle income' 'High income']\n",
            "Decision Tree \n",
            "accuracy =  0.9844760672703752 \n",
            "balanced accuracy =  0.9847029487974239 \n",
            "precision =  0.9846308971009321 \n",
            "jaccard =  0.9698604184896511\n"
          ]
        }
      ]
    },
    {
      "cell_type": "code",
      "source": [
        "# X (labels) -->\n",
        "# x1 = total cases per million\n",
        "# x2 = total deaths per million\n",
        "# x4 = year\n",
        "# x5 = month\n",
        "\n",
        "X = df.iloc[:, [6, 7, 12, 13]]\n",
        "\n",
        "# y = people fully vaccinated per hundred (predcited)\n",
        "y = df.iloc[:, [10]]\n",
        "\n",
        "# splitting the train(60) test(40) data\n",
        "X_train, X_test, y_train, y_test = train_test_split(X, y, test_size=0.4)"
      ],
      "metadata": {
        "id": "JPvDseudv6DA"
      },
      "execution_count": 17,
      "outputs": []
    },
    {
      "cell_type": "code",
      "source": [
        "scaler = StandardScaler()\n",
        "X_train_scaled = scaler.fit_transform(X_train)\n",
        "X_test_scaled = scaler.transform(X_test)"
      ],
      "metadata": {
        "id": "97Jf5JVtv9nD"
      },
      "execution_count": 18,
      "outputs": []
    },
    {
      "cell_type": "code",
      "source": [
        "# Desicion tree algorithm to predict the y (no. of people gets vaccinated)\n",
        "reigion_dt = DecisionTreeRegressor()\n",
        "reigion_dt.fit(X_train_scaled, y_train)\n",
        "\n",
        "y_pred = reigion_dt.predict(X_test_scaled)\n",
        "print(y_pred)\n",
        "\n",
        "dt_mse = mean_squared_error(y_test, y_pred)\n",
        "dt_mae = mean_absolute_error(y_test, y_pred)"
      ],
      "metadata": {
        "colab": {
          "base_uri": "https://localhost:8080/"
        },
        "outputId": "4a9c1784-241b-4d12-e95b-9d2e6d2d4f29",
        "id": "rCT9n2pDwGEJ"
      },
      "execution_count": 19,
      "outputs": [
        {
          "output_type": "stream",
          "name": "stdout",
          "text": [
            "[7.656e+01 7.839e+01 2.946e+01 ... 1.820e+00 2.000e-02 5.930e+00]\n"
          ]
        }
      ]
    },
    {
      "cell_type": "code",
      "source": [
        "# Random Forest algorithm to predict the y (no. of people gets vaccinated)\n",
        "reigion_rf = RandomForestRegressor()\n",
        "reigion_rf.fit(X_train_scaled, y_train)\n",
        "\n",
        "y_pred = reigion_rf.predict(X_test_scaled)\n",
        "print(y_pred)\n",
        "\n",
        "rf_mse = mean_squared_error(y_test, y_pred)\n",
        "rf_mae = mean_absolute_error(y_test, y_pred)"
      ],
      "metadata": {
        "colab": {
          "base_uri": "https://localhost:8080/"
        },
        "outputId": "a5081a53-7882-471d-cebf-b2166d58d158",
        "id": "4KDJZR0zwGEK"
      },
      "execution_count": 20,
      "outputs": [
        {
          "output_type": "stream",
          "name": "stderr",
          "text": [
            "/usr/local/lib/python3.7/dist-packages/ipykernel_launcher.py:3: DataConversionWarning: A column-vector y was passed when a 1d array was expected. Please change the shape of y to (n_samples,), for example using ravel().\n",
            "  This is separate from the ipykernel package so we can avoid doing imports until\n"
          ]
        },
        {
          "output_type": "stream",
          "name": "stdout",
          "text": [
            "[7.65607e+01 7.84550e+01 2.98320e+01 ... 1.80680e+00 1.75000e-02\n",
            " 6.14680e+00]\n"
          ]
        }
      ]
    },
    {
      "cell_type": "code",
      "source": [
        "# comparing the errors in algorithm\n",
        "\n",
        "print(\"Decision Tree \\nmse = \",dt_mse,\"\\nmae = \",dt_mae,\"\\nrmse = \", sqrt(dt_mse))\n",
        "print(\"\\nRandom Forest \\nmse = \",rf_mse,\" \\nmae = \",rf_mae,\"\\nrmse = \", sqrt(rf_mse)) "
      ],
      "metadata": {
        "colab": {
          "base_uri": "https://localhost:8080/"
        },
        "outputId": "88ba4349-ae14-4fdb-d9e3-8693810c41aa",
        "id": "tfpKvvhfwGEK"
      },
      "execution_count": 21,
      "outputs": [
        {
          "output_type": "stream",
          "name": "stdout",
          "text": [
            "Decision Tree \n",
            "mse =  0.0303601552393273 \n",
            "mae =  0.05817593790426913 \n",
            "rmse =  0.1742416575888995\n",
            "\n",
            "Random Forest \n",
            "mse =  0.06462492855109962  \n",
            "mae =  0.05394320827943078 \n",
            "rmse =  0.2542143358489045\n"
          ]
        }
      ]
    },
    {
      "cell_type": "code",
      "source": [
        "#------------------------------------------------------------------------------------------------------------------"
      ],
      "metadata": {
        "id": "2eOflyu0wJdD"
      },
      "execution_count": 22,
      "outputs": []
    },
    {
      "cell_type": "code",
      "source": [
        "# Code by Siddh\n",
        "\n",
        "# creating a copy to perform various opeations\n",
        "df=df_region.copy() "
      ],
      "metadata": {
        "id": "goMnLkulk4vc"
      },
      "execution_count": 23,
      "outputs": []
    },
    {
      "cell_type": "code",
      "source": [
        "# changing the date format to the int form string to prcocess it easily  \n",
        "df['date'] = pd.to_datetime(df['date'])\n",
        "df['date'] = df['date'].dt.strftime('%Y.%m.%d')\n",
        "df['year'] = pd.DatetimeIndex(df['date']).year\n",
        "df['month'] = pd.DatetimeIndex(df['date']).month\n",
        "df['day'] = pd.DatetimeIndex(df['date']).day\n",
        "\n",
        "print(df.info())"
      ],
      "metadata": {
        "colab": {
          "base_uri": "https://localhost:8080/"
        },
        "id": "5kEVpJAppAgv",
        "outputId": "3840502a-d8ef-40a7-cc53-af370be6d056"
      },
      "execution_count": 24,
      "outputs": [
        {
          "output_type": "stream",
          "name": "stdout",
          "text": [
            "<class 'pandas.core.frame.DataFrame'>\n",
            "RangeIndex: 7734 entries, 0 to 7733\n",
            "Data columns (total 15 columns):\n",
            " #   Column                               Non-Null Count  Dtype  \n",
            "---  ------                               --------------  -----  \n",
            " 0   Unnamed: 0                           7734 non-null   int64  \n",
            " 1   iso_code                             7734 non-null   object \n",
            " 2   location                             7734 non-null   object \n",
            " 3   date                                 7734 non-null   object \n",
            " 4   total_cases                          7734 non-null   int64  \n",
            " 5   total_deaths                         7734 non-null   int64  \n",
            " 6   total_cases_per_million              7734 non-null   float64\n",
            " 7   total_deaths_per_million             7734 non-null   float64\n",
            " 8   people_vaccinated                    7734 non-null   int64  \n",
            " 9   people_fully_vaccinated              7734 non-null   int64  \n",
            " 10  people_fully_vaccinated_per_hundred  7734 non-null   float64\n",
            " 11  population                           7734 non-null   int64  \n",
            " 12  year                                 7734 non-null   int64  \n",
            " 13  month                                7734 non-null   int64  \n",
            " 14  day                                  7734 non-null   int64  \n",
            "dtypes: float64(3), int64(9), object(3)\n",
            "memory usage: 906.5+ KB\n",
            "None\n"
          ]
        }
      ]
    },
    {
      "cell_type": "code",
      "source": [
        "# X (labels) -->\n",
        "# x1 = total cases per million\n",
        "# x2 = total deaths per million\n",
        "# x3 = people fully vaccinated per hundred\n",
        "# x4 = year\n",
        "# x5 = month\n",
        "\n",
        "X = df.iloc[:, [6, 7, 10, 12, 13]]\n",
        "\n",
        "# predicting y -> regions affected\n",
        "y = df.iloc[:, [2]]\n",
        "\n",
        "# splitting the train(60) test(40) data\n",
        "X_train, X_test, y_train, y_test = train_test_split(X, y, test_size=0.4)"
      ],
      "metadata": {
        "id": "fClbIvjmPkb5"
      },
      "execution_count": 25,
      "outputs": []
    },
    {
      "cell_type": "code",
      "source": [
        "# Decision Tree Algorithm to predict which country the given data is from\n",
        "country_cdvpym_clf = DecisionTreeClassifier()\n",
        "country_cdvpym_clf.fit(X_train, y_train)"
      ],
      "metadata": {
        "colab": {
          "base_uri": "https://localhost:8080/"
        },
        "id": "R3cjXH5qQuSY",
        "outputId": "9d95ed57-9ce5-4090-fad6-5c9f6cee7fce"
      },
      "execution_count": 26,
      "outputs": [
        {
          "output_type": "execute_result",
          "data": {
            "text/plain": [
              "DecisionTreeClassifier()"
            ]
          },
          "metadata": {},
          "execution_count": 26
        }
      ]
    },
    {
      "cell_type": "code",
      "source": [
        "y_pred = country_cdvpym_clf.predict(X_test)\n",
        "print(y_pred)\n",
        "\n",
        "acc = accuracy_score(y_test,y_pred)\n",
        "bal_acc = balanced_accuracy_score(y_test, y_pred)\n",
        "pre = precision_score(y_test, y_pred, average='macro')\n",
        "jacc = jaccard_score(y_test, y_pred, average='macro')\n",
        "\n",
        "print(\"Decision Tree \\naccuracy = \", acc, \"\\nbalanced accuracy = \", bal_acc, \"\\nprecision = \", pre, \"\\njaccard = \", jacc)"
      ],
      "metadata": {
        "colab": {
          "base_uri": "https://localhost:8080/"
        },
        "id": "Uw1A0T9SQwWR",
        "outputId": "5897393a-352b-4b17-80ac-d1e8213a0758"
      },
      "execution_count": 27,
      "outputs": [
        {
          "output_type": "stream",
          "name": "stdout",
          "text": [
            "['Europe' 'Asia' 'Africa' ... 'South America' 'World' 'Asia']\n",
            "Decision Tree \n",
            "accuracy =  0.9091790562378798 \n",
            "balanced accuracy =  0.9096047809120531 \n",
            "precision =  0.9098267920680132 \n",
            "jaccard =  0.8379172876900025\n"
          ]
        }
      ]
    },
    {
      "cell_type": "code",
      "source": [
        "# X (labels) -->\n",
        "# x1 = total cases per million\n",
        "# x2 = total deaths per million\n",
        "# x4 = year\n",
        "# x5 = month\n",
        "\n",
        "X = df.iloc[:, [6, 7, 12, 13]]\n",
        "\n",
        "# y = people fully vaccinated per hundred (predcited)\n",
        "y = df.iloc[:, [10]]\n",
        "\n",
        "# splitting the train(60) test(40) data\n",
        "X_train, X_test, y_train, y_test = train_test_split(X, y, test_size=0.4)"
      ],
      "metadata": {
        "id": "OEt_lfNaSZfD"
      },
      "execution_count": 28,
      "outputs": []
    },
    {
      "cell_type": "code",
      "source": [
        "scaler = StandardScaler()\n",
        "X_train_scaled = scaler.fit_transform(X_train)\n",
        "X_test_scaled = scaler.transform(X_test)"
      ],
      "metadata": {
        "id": "6XM6b74dTWVZ"
      },
      "execution_count": 29,
      "outputs": []
    },
    {
      "cell_type": "code",
      "source": [
        "# Desicion tree algorithm to predict the y (no. of people gets vaccinated)\n",
        "reigion_dt = DecisionTreeRegressor()\n",
        "reigion_dt.fit(X_train_scaled, y_train)\n",
        "\n",
        "y_pred = reigion_dt.predict(X_test_scaled)\n",
        "print(y_pred)\n",
        "\n",
        "dt_mse = mean_squared_error(y_test, y_pred)\n",
        "dt_mae = mean_absolute_error(y_test, y_pred)"
      ],
      "metadata": {
        "colab": {
          "base_uri": "https://localhost:8080/"
        },
        "id": "s2xSD7rWTeWu",
        "outputId": "9d0f1e44-540a-498b-c064-bac5bd37e66c"
      },
      "execution_count": 30,
      "outputs": [
        {
          "output_type": "stream",
          "name": "stdout",
          "text": [
            "[15.73  0.06 44.22 ... 41.32 13.15 48.05]\n"
          ]
        }
      ]
    },
    {
      "cell_type": "code",
      "source": [
        "# Random Forest algorithm to predict the y (no. of people gets vaccinated)\n",
        "reigion_rf = RandomForestRegressor()\n",
        "reigion_rf.fit(X_train_scaled, y_train)\n",
        "\n",
        "y_pred = reigion_rf.predict(X_test_scaled)\n",
        "print(y_pred)\n",
        "\n",
        "rf_mse = mean_squared_error(y_test, y_pred)\n",
        "rf_mae = mean_absolute_error(y_test, y_pred)"
      ],
      "metadata": {
        "colab": {
          "base_uri": "https://localhost:8080/"
        },
        "id": "NCFwL1c9rfsr",
        "outputId": "31ccaa9b-176c-4acf-bbec-c99cb5dbc3e5"
      },
      "execution_count": 31,
      "outputs": [
        {
          "output_type": "stream",
          "name": "stderr",
          "text": [
            "/usr/local/lib/python3.7/dist-packages/ipykernel_launcher.py:3: DataConversionWarning: A column-vector y was passed when a 1d array was expected. Please change the shape of y to (n_samples,), for example using ravel().\n",
            "  This is separate from the ipykernel package so we can avoid doing imports until\n"
          ]
        },
        {
          "output_type": "stream",
          "name": "stdout",
          "text": [
            "[15.7029  0.0565 44.5292 ... 42.7917 13.0369 51.1516]\n"
          ]
        }
      ]
    },
    {
      "cell_type": "code",
      "source": [
        "# comparing the errors in algorithm\n",
        "\n",
        "print(\"Decision Tree \\nmse = \",dt_mse,\"\\nmae = \",dt_mae,\"\\nrmse = \", sqrt(dt_mse))\n",
        "print(\"\\nRandom Forest \\nmse = \",rf_mse,\" \\nmae = \",rf_mae,\"\\nrmse = \", sqrt(rf_mse)) "
      ],
      "metadata": {
        "colab": {
          "base_uri": "https://localhost:8080/"
        },
        "id": "UhTDjfhHTgcR",
        "outputId": "669d97d8-c425-48cb-c88f-72f9cafa7a39"
      },
      "execution_count": 32,
      "outputs": [
        {
          "output_type": "stream",
          "name": "stdout",
          "text": [
            "Decision Tree \n",
            "mse =  1.8603172268907564 \n",
            "mae =  0.2360730446024564 \n",
            "rmse =  1.3639344657610044\n",
            "\n",
            "Random Forest \n",
            "mse =  1.1992298690723981  \n",
            "mae =  0.2672010019392378 \n",
            "rmse =  1.0950935435260305\n"
          ]
        }
      ]
    }
  ]
}