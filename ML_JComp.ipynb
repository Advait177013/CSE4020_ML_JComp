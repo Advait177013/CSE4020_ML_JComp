{
  "nbformat": 4,
  "nbformat_minor": 0,
  "metadata": {
    "colab": {
      "provenance": [],
      "authorship_tag": "ABX9TyNJXkHbu/lHxaiLyefCAng3",
      "include_colab_link": true
    },
    "kernelspec": {
      "name": "python3",
      "display_name": "Python 3"
    },
    "language_info": {
      "name": "python"
    }
  },
  "cells": [
    {
      "cell_type": "markdown",
      "metadata": {
        "id": "view-in-github",
        "colab_type": "text"
      },
      "source": [
        "<a href=\"https://colab.research.google.com/github/Advait177013/CSE4020_ML_JComp/blob/main/ML_JComp.ipynb\" target=\"_parent\"><img src=\"https://colab.research.google.com/assets/colab-badge.svg\" alt=\"Open In Colab\"/></a>"
      ]
    },
    {
      "cell_type": "code",
      "execution_count": null,
      "metadata": {
        "id": "rjv67nzsgltr"
      },
      "outputs": [],
      "source": [
        "import numpy as np\n",
        "import pandas as pd\n",
        "import matplotlib.pyplot as plt\n",
        "%matplotlib inline"
      ]
    },
    {
      "cell_type": "code",
      "source": [
        "url_country = 'https://raw.githubusercontent.com/Advait177013/CSE4020_ML_JComp/main/cleaned%20data/min_full_set_by_country.csv'\n",
        "url_income = 'https://raw.githubusercontent.com/Advait177013/CSE4020_ML_JComp/main/cleaned%20data/min_full_set_by_income.csv'\n",
        "url_region = 'https://raw.githubusercontent.com/Advait177013/CSE4020_ML_JComp/main/cleaned%20data/min_full_set_by_region.csv'\n",
        "df_country = pd.read_csv(url_country)\n",
        "df_income = pd.read_csv(url_income)\n",
        "df_region = pd.read_csv(url_region)"
      ],
      "metadata": {
        "id": "WhIJhEc2k8gz"
      },
      "execution_count": null,
      "outputs": []
    },
    {
      "cell_type": "markdown",
      "source": [
        "Team Members : \n",
        "\n",
        "Advait Deochakke\n",
        "\n",
        "Harish T R\n",
        "\n",
        "Shah Siddh "
      ],
      "metadata": {
        "id": "OQNNEEZBgqGL"
      }
    },
    {
      "cell_type": "code",
      "source": [
        "#Code by Advait"
      ],
      "metadata": {
        "id": "6XnpSVuOg-IR"
      },
      "execution_count": null,
      "outputs": []
    },
    {
      "cell_type": "code",
      "source": [
        "#Code by Harish"
      ],
      "metadata": {
        "id": "2AqQQ9LFk3Wx"
      },
      "execution_count": null,
      "outputs": []
    },
    {
      "cell_type": "code",
      "source": [
        "#Code by Siddh"
      ],
      "metadata": {
        "id": "goMnLkulk4vc"
      },
      "execution_count": null,
      "outputs": []
    }
  ]
}